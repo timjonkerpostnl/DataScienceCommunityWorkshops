{
 "cells": [
  {
   "cell_type": "code",
   "execution_count": 1,
   "id": "ecf75d4e",
   "metadata": {},
   "outputs": [],
   "source": [
    "import tsp_general_functions\n",
    "from tsp_classes import City\n",
    "from typing import List, Tuple\n",
    "import numpy as np\n",
    "import random\n",
    "import time"
   ]
  },
  {
   "cell_type": "code",
   "execution_count": 2,
   "id": "947982cf",
   "metadata": {},
   "outputs": [],
   "source": [
    "from tsp_classes import City\n",
    "from typing import List, Tuple\n",
    "import numpy as np\n",
    "import random\n",
    "import time\n",
    "import tsp_general_functions\n",
    "\n",
    "\n",
    "def grasp_nearest_neighbour(cities: List[City], iterations=20, fraction_of_best=1.2):\n",
    "    \"\"\"\n",
    "    Extend the nearest neighbour heuristic with GRASP. Select one city no further than fraction_of_best * d_closest city\n",
    "    :param cities: all cities to be visited\n",
    "    :param iterations: The number of GRASP iterations\n",
    "    :param fraction_of_best: The fraction for which cities are accepted\n",
    "    :return: The path, the objective, the computation time\n",
    "    \"\"\"\n",
    "    t0 = time.time()\n",
    "    best_path = None\n",
    "    best_objective = np.inf\n",
    "    for _ in range(iterations):\n",
    "        # Repeat for all iterations\n",
    "        path = [cities[0]]\n",
    "        total_distance = 0\n",
    "        unvisited_cities = set(cities[1:])\n",
    "        while len(unvisited_cities) > 0:\n",
    "            # Continue until all cities are visited\n",
    "            # Find the extra distance to each unvisited city and the distance to the closest city\n",
    "            extra_distances, best_extra_distance = path[-1].closest_other_city_dict(unvisited_cities)\n",
    "            # Consider all cities that are within fraction_of_best * best_extra_distance distance\n",
    "            options = [city for city, extra_distance in extra_distances.items()\n",
    "                       if extra_distance <= fraction_of_best * best_extra_distance]\n",
    "            # Select one of these cities randomly\n",
    "            chosen_city = options[random.randint(0, len(options) - 1)]\n",
    "            # Add this city to the path and do the bookkeeping\n",
    "            path.append(chosen_city)\n",
    "            total_distance += extra_distances[chosen_city]\n",
    "            unvisited_cities.remove(chosen_city)\n",
    "\n",
    "        # Calculate the path length by connecting the last and first city\n",
    "        total_distance += path[-1].distance_to(path[0])\n",
    "        if total_distance < best_objective:\n",
    "            # If the obtained path is the best one so far remember it\n",
    "            best_objective = total_distance\n",
    "            best_path = path\n",
    "\n",
    "    t_total = time.time() - t0\n",
    "\n",
    "    return best_path, best_objective, t_total\n",
    "\n",
    "\n",
    "def local_search(cities: List[City], grasp_iterations=20, fraction_of_best=1.2):\n",
    "    \"\"\"\n",
    "    Apply local search to improve the solution obtained with GRASP\n",
    "    :param cities: all cities to be visited\n",
    "    :param grasp_iterations: The number of GRASP iterations\n",
    "    :param fraction_of_best: The fraction for which cities are accepted\n",
    "    :return: The path, the objective, the computation time\n",
    "    \"\"\"\n",
    "    t0 = time.time()\n",
    "    path, length, time_initial = grasp_nearest_neighbour(cities, grasp_iterations, fraction_of_best)\n",
    "\n",
    "    # vvvvvvv YOUR CODE HERE vvvvvvv\n",
    "    # Hint: You might want to use the function tsp_general_functions.re_insert_path_segment(...)\n",
    "    for _ in range(50):\n",
    "        best_length = length\n",
    "        best_path = path.copy()\n",
    "        # You could also shorten the for loops\n",
    "        for i in range(len(path)):\n",
    "        # i = 0\n",
    "            for j in range(i+1, len(path)):\n",
    "            # j = i + 1 (The larger j the longer the path segment that you place at another position)\n",
    "                for insert_left_index in range(len(path) - (j - i + 1)):\n",
    "                # insert_left_index = 0 (If j=0 we place the segment in front)\n",
    "                    for reverse in [True, False]:\n",
    "                    # reverse = False\n",
    "                        new_path, new_length = tsp_general_functions.re_insert_path_segment(\n",
    "                            (i, j), insert_left_index, reverse, path, length)\n",
    "                        if new_length < best_length - 0.0001:\n",
    "                            best_length = new_length\n",
    "                            best_path = new_path\n",
    "        path = best_path\n",
    "        length = best_length\n",
    "\n",
    "    total_distance = length\n",
    "    # ^^^^^^ YOUR CODE HERE ^^^^^^^\n",
    "\n",
    "    t_total = time.time() - t0\n",
    "    return path, total_distance, t_total\n",
    "\n"
   ]
  },
  {
   "cell_type": "code",
   "execution_count": 3,
   "id": "b212109a",
   "metadata": {},
   "outputs": [
    {
     "name": "stdout",
     "output_type": "stream",
     "text": [
      "Solution is valid\n",
      "Your solution has an objective value of 302.7546403604324 and was found in 0.39894938468933105 seconds\n"
     ]
    },
    {
     "data": {
      "image/png": "[encoded data removed]",
      "text/plain": [
       "<Figure size 432x288 with 1 Axes>"
      ]
     },
     "metadata": {},
     "output_type": "display_data"
    }
   ],
   "source": [
    "NUM_CITIES = 10\n",
    "cities, G = tsp_general_functions.start_up(NUM_CITIES)\n",
    "\n",
    "# If you need to, you could make changes here, do not update the output variable names\n",
    "path, length, time_taken = local_search(cities, grasp_iterations=20, fraction_of_best=1.2)\n",
    "\n",
    "# vvvvvv DON'T TOUCH THESE LINES IF YOU WANT TO FOLLOW THE ASSIGNMENT vvvvvvvv\n",
    "tsp_general_functions.evaluate_path(path, cities, length)\n",
    "print(f'Your solution has an objective value of {length} and was found in {time_taken} seconds')\n",
    "tsp_general_functions.draw_path(G, path)\n",
    "# ^^^^^^ DON'T TOUCH THESE LINES IF YOU WANT TO FOLLOW THE ASSIGNMENT ^^^^^^^^"
   ]
  },
  {
   "cell_type": "code",
   "execution_count": null,
   "id": "3abc01fb",
   "metadata": {},
   "outputs": [],
   "source": []
  }
 ],
 "metadata": {
  "kernelspec": {
   "display_name": "conda_python3",
   "language": "python",
   "name": "conda_python3"
  },
  "language_info": {
   "codemirror_mode": {
    "name": "ipython",
    "version": 3
   },
   "file_extension": ".py",
   "mimetype": "text/x-python",
   "name": "python",
   "nbconvert_exporter": "python",
   "pygments_lexer": "ipython3",
   "version": "3.6.13"
  }
 },
 "nbformat": 4,
 "nbformat_minor": 5
}
